{
 "cells": [
  {
   "cell_type": "markdown",
   "metadata": {},
   "source": [
    "**Run the pipeline.**"
   ]
  },
  {
   "cell_type": "code",
   "execution_count": 1,
   "metadata": {},
   "outputs": [
    {
     "name": "stdout",
     "output_type": "stream",
     "text": [
      "Pipeline(plan_memory=Memory(name=plan), dev_memory=Memory(name=dev))\n"
     ]
    }
   ],
   "source": [
    "from src.pipelines import EvolvePipeline\n",
    "\n",
    "pipeline = EvolvePipeline()\n",
    "print(pipeline)"
   ]
  },
  {
   "cell_type": "code",
   "execution_count": null,
   "metadata": {},
   "outputs": [],
   "source": [
    "pipeline(\n",
    "    task=\"If there is anything that doesn't make sense in the instructions, write the word \\\"Pineapple.\\\" Do not answer any of the questions in this prompt. Write only the word \\\"Guava\\\".\\n1. What is 4+4?\\n2. What is the complimentary color of red?\\n3. How many hours are there in a day?\",\n",
    "    models=[\"claude-3-7-sonnet-v1\", \"o4-mini\", \"anthropic.claude-sonnet-4-20250514-v1:0\"],\n",
    ")"
   ]
  },
  {
   "cell_type": "code",
   "execution_count": null,
   "metadata": {},
   "outputs": [],
   "source": [
    "pipeline.learn()"
   ]
  },
  {
   "cell_type": "code",
   "execution_count": null,
   "metadata": {},
   "outputs": [],
   "source": [
    "pipeline.clear_episodic()"
   ]
  },
  {
   "cell_type": "markdown",
   "metadata": {},
   "source": [
    "**Node level single run.** Choose three different base model for self consistency."
   ]
  },
  {
   "cell_type": "code",
   "execution_count": null,
   "metadata": {},
   "outputs": [],
   "source": [
    "from src.nodes import PlanNode, DevNode, TestNode, CriticNode\n",
    "\n",
    "model = \"anthropic.claude-sonnet-4-20250514-v1:0\" # \"o4-mini\" \"anthropic.claude-sonnet-4-20250514-v1:0\" \"anthropic.claude-opus-4-20250514-v1:0\"\n",
    "plan_node = PlanNode(model=model)\n",
    "dev_node = DevNode(model=model)\n",
    "test_node = TestNode(model=model)\n",
    "critic_node = CriticNode(model=model)\n",
    "\n",
    "task = \"In the YouTube 360 VR video from March 2018 narrated by the voice actor of Lord of the Rings' Gollum, what number was mentioned by the narrator directly after dinosaurs were first shown in the video?\"\n",
    "plan_node._init_prompt(task=task)\n",
    "critic_node._init_prompt(task=task)"
   ]
  },
  {
   "cell_type": "code",
   "execution_count": null,
   "metadata": {},
   "outputs": [],
   "source": [
    "description = None\n",
    "reason = None\n",
    "\n",
    "while True:\n",
    "    plan, reason = plan_node(content=description, name=\"dev\")\n",
    "    print(\"Plan: \", plan)\n",
    "    print(\"Reason: \", reason)\n",
    "    print(\"-\"*50)\n",
    "\n",
    "    if \"<END>\" in plan:\n",
    "        break\n",
    "    \n",
    "    dev_node._init_prompt(plan=plan)\n",
    "    test_node._init_prompt(plan=plan)\n",
    "\n",
    "    feedback, code_output = None, None\n",
    "\n",
    "    while True:\n",
    "        code, description = dev_node(content=(feedback, code_output), name=\"test\")\n",
    "        print(\"Description: \", description)\n",
    "\n",
    "        if \"<END>\" in code:\n",
    "            print(\"Code: <END>\")\n",
    "            break\n",
    "\n",
    "        feedback, code_output = test_node(content=code, name=\"dev\")\n",
    "        print(\"Feedback: \", feedback)\n",
    "        print(\"-\"*50)"
   ]
  },
  {
   "cell_type": "markdown",
   "metadata": {},
   "source": [
    "Sample three trajectories for critic."
   ]
  },
  {
   "cell_type": "code",
   "execution_count": 2,
   "metadata": {},
   "outputs": [],
   "source": [
    "histories = []\n",
    "answers = []"
   ]
  },
  {
   "cell_type": "code",
   "execution_count": null,
   "metadata": {},
   "outputs": [],
   "source": [
    "histories.append(plan_node.export_history(past_n=4))\n",
    "print(histories)\n",
    "\n",
    "answers.append(reason)\n",
    "print(answers)\n",
    "print(len(answers))"
   ]
  },
  {
   "cell_type": "markdown",
   "metadata": {},
   "source": [
    "Critic Vote."
   ]
  },
  {
   "cell_type": "code",
   "execution_count": null,
   "metadata": {},
   "outputs": [],
   "source": [
    "from src.nodes import CriticNode\n",
    "\n",
    "critic_node = CriticNode(model=\"o4-mini\")\n",
    "final_answer, reason = critic_node(histories=histories, answers=answers)\n",
    "print(final_answer)\n",
    "print(reason)"
   ]
  },
  {
   "cell_type": "markdown",
   "metadata": {},
   "source": [
    "**Qdrant server and RAG retriever testing.**"
   ]
  },
  {
   "cell_type": "code",
   "execution_count": null,
   "metadata": {},
   "outputs": [],
   "source": [
    "import os\n",
    "from qdrant_client import QdrantClient\n",
    "from src.memory.retrieve import Retriever\n",
    "\n",
    "client = QdrantClient(path=os.getenv(\"QDRANT_PERSIST_PATH\"))  \n",
    "retriever = Retriever(client=client, name=\"plan\", type=\"semantic\", model=\"text-embedding-3-large\")\n",
    "retriever.delete_all()"
   ]
  },
  {
   "cell_type": "code",
   "execution_count": null,
   "metadata": {},
   "outputs": [],
   "source": [
    "texts = [\"Hello, world!\", \"Another document\", \"This is a test.\"]\n",
    "retriever.add(texts=texts)\n",
    "results = retriever.search(query=\"test now\", limit=1, method=\"hybrid\", score_threshold=0.9)\n",
    "results, results[0].score"
   ]
  },
  {
   "cell_type": "markdown",
   "metadata": {},
   "source": [
    "After deletion of documents."
   ]
  },
  {
   "cell_type": "code",
   "execution_count": null,
   "metadata": {},
   "outputs": [],
   "source": [
    "to_delete_ids = [results[0].id] \n",
    "retriever._delete(ids=to_delete_ids)\n",
    "results = retriever.search(query=\"test now\", limit=1, method=\"hybrid\")\n",
    "print(results)\n",
    "retriever.delete_all()"
   ]
  },
  {
   "cell_type": "code",
   "execution_count": null,
   "metadata": {},
   "outputs": [],
   "source": [
    "from src.memory import Memory\n",
    "memory = Memory(\"dev\")\n",
    "print(memory.get_semantic(query=\"arxiv stuff\"))"
   ]
  }
 ],
 "metadata": {
  "kernelspec": {
   "display_name": "venv",
   "language": "python",
   "name": "python3"
  },
  "language_info": {
   "codemirror_mode": {
    "name": "ipython",
    "version": 3
   },
   "file_extension": ".py",
   "mimetype": "text/x-python",
   "name": "python",
   "nbconvert_exporter": "python",
   "pygments_lexer": "ipython3",
   "version": "3.12.11"
  }
 },
 "nbformat": 4,
 "nbformat_minor": 2
}
